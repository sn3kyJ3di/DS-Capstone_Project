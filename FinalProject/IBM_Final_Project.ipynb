{
 "cells": [
  {
   "cell_type": "markdown",
   "metadata": {},
   "source": [
    "Recently in the United States police use of deadly force has become a politicaly important issue in conjunction with the \"Black Lives Matter\" movement which is concerned with the idea that systematic racism has caused the devaluing of african american lives.  In this project I will try to find insight into two questions: Are the police in the US killing a disproportionate amount of unarmed black men and where is this happening?  The Washington Post has been collecting data on police killings from 2015 to July of 2017.  I will use this data source to answer my questions and be able to see a visual of where these have happened."
   ]
  }
 ],
 "metadata": {
  "kernelspec": {
   "display_name": "Python 3",
   "language": "python",
   "name": "python3"
  },
  "language_info": {
   "codemirror_mode": {
    "name": "ipython",
    "version": 3
   },
   "file_extension": ".py",
   "mimetype": "text/x-python",
   "name": "python",
   "nbconvert_exporter": "python",
   "pygments_lexer": "ipython3",
   "version": "3.7.4"
  }
 },
 "nbformat": 4,
 "nbformat_minor": 2
}
